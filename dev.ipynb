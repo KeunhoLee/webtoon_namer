{
 "cells": [
  {
   "cell_type": "code",
   "execution_count": 52,
   "metadata": {},
   "outputs": [],
   "source": [
    "import os\n",
    "import time\n",
    "import pandas as pd\n",
    "import numpy as np\n",
    "\n",
    "from bs4 import BeautifulSoup\n",
    "from selenium.webdriver.chrome.service import Service\n",
    "from selenium import webdriver\n",
    "from selenium.webdriver.common.by import By\n",
    "from selenium.webdriver.support.ui import WebDriverWait\n",
    "from selenium.webdriver.support import expected_conditions as EC\n",
    "from selenium.webdriver.common.keys import Keys\n"
   ]
  },
  {
   "cell_type": "code",
   "execution_count": 3,
   "metadata": {},
   "outputs": [],
   "source": [
    "CHROME_DRIVER_PATH = os.environ[\"CHROME_DRIVER_PATH\"]"
   ]
  },
  {
   "cell_type": "code",
   "execution_count": 7,
   "metadata": {},
   "outputs": [],
   "source": [
    "chrome_options = webdriver.ChromeOptions()\n",
    "# chrome_options.add_argument(\"--headless\")\n",
    "webdriver_service = Service(CHROME_DRIVER_PATH)\n",
    "driver = webdriver.Chrome(service=webdriver_service, options=chrome_options)"
   ]
  },
  {
   "cell_type": "markdown",
   "metadata": {},
   "source": [
    "## 네이버 웹툰"
   ]
  },
  {
   "cell_type": "code",
   "execution_count": 13,
   "metadata": {},
   "outputs": [],
   "source": [
    "naver_webtoon_base_url = \"https://comic.naver.com/\""
   ]
  },
  {
   "cell_type": "code",
   "execution_count": 96,
   "metadata": {},
   "outputs": [],
   "source": [
    "titles = []\n",
    "writers = []\n",
    "\n",
    "for year in range(2005, 2023):\n",
    "\n",
    "    url = naver_webtoon_base_url + f\"webtoon/period?period={year}\"\n",
    "\n",
    "    driver.get(url)\n",
    "\n",
    "    page_src = driver.page_source\n",
    "    soup = BeautifulSoup(page_src, 'html.parser')\n",
    "\n",
    "    title_in_year = [s.find(\"a\").get_attribute_list(\"title\")[0] for s in soup.find('ul', {\"class\": \"img_list\"}).find_all(\"dt\")]\n",
    "    writer_in_year = [s.text for s in soup.find_all('dd', {\"class\": \"desc\"})]\n",
    "\n",
    "    titles.extend(title_in_year)\n",
    "    writers.extend(writer_in_year)\n",
    "\n",
    "    time.sleep(2 + np.random.randint(3))"
   ]
  },
  {
   "cell_type": "code",
   "execution_count": 97,
   "metadata": {},
   "outputs": [
    {
     "data": {
      "text/plain": [
       "True"
      ]
     },
     "execution_count": 97,
     "metadata": {},
     "output_type": "execute_result"
    }
   ],
   "source": [
    "len(titles) == len(writers)"
   ]
  },
  {
   "cell_type": "code",
   "execution_count": 98,
   "metadata": {},
   "outputs": [
    {
     "data": {
      "text/plain": [
       "4538"
      ]
     },
     "execution_count": 98,
     "metadata": {},
     "output_type": "execute_result"
    }
   ],
   "source": [
    "len(titles)"
   ]
  },
  {
   "cell_type": "code",
   "execution_count": 99,
   "metadata": {},
   "outputs": [
    {
     "data": {
      "text/plain": [
       "4538"
      ]
     },
     "execution_count": 99,
     "metadata": {},
     "output_type": "execute_result"
    }
   ],
   "source": [
    "# len(writers)"
   ]
  },
  {
   "cell_type": "code",
   "execution_count": 106,
   "metadata": {},
   "outputs": [],
   "source": [
    "result = pd.DataFrame({\"title\":titles,\n",
    "                    \"writers\":writers})\n",
    "\n",
    "result = result.drop_duplicates()"
   ]
  },
  {
   "cell_type": "code",
   "execution_count": 143,
   "metadata": {},
   "outputs": [
    {
     "data": {
      "text/html": [
       "<div>\n",
       "<style scoped>\n",
       "    .dataframe tbody tr th:only-of-type {\n",
       "        vertical-align: middle;\n",
       "    }\n",
       "\n",
       "    .dataframe tbody tr th {\n",
       "        vertical-align: top;\n",
       "    }\n",
       "\n",
       "    .dataframe thead th {\n",
       "        text-align: right;\n",
       "    }\n",
       "</style>\n",
       "<table border=\"1\" class=\"dataframe\">\n",
       "  <thead>\n",
       "    <tr style=\"text-align: right;\">\n",
       "      <th></th>\n",
       "      <th>title</th>\n",
       "      <th>writers</th>\n",
       "    </tr>\n",
       "  </thead>\n",
       "  <tbody>\n",
       "    <tr>\n",
       "      <th>0</th>\n",
       "      <td>골방환상곡</td>\n",
       "      <td>\\n워니 / 심윤수\\n</td>\n",
       "    </tr>\n",
       "    <tr>\n",
       "      <th>1</th>\n",
       "      <td>사랑in</td>\n",
       "      <td>\\n전세훈\\n</td>\n",
       "    </tr>\n",
       "    <tr>\n",
       "      <th>3</th>\n",
       "      <td>마음의소리</td>\n",
       "      <td>\\n조석\\n</td>\n",
       "    </tr>\n",
       "    <tr>\n",
       "      <th>5</th>\n",
       "      <td>수사9단</td>\n",
       "      <td>\\n김선권\\n</td>\n",
       "    </tr>\n",
       "    <tr>\n",
       "      <th>6</th>\n",
       "      <td>와탕카</td>\n",
       "      <td>\\n우주인\\n</td>\n",
       "    </tr>\n",
       "  </tbody>\n",
       "</table>\n",
       "</div>"
      ],
      "text/plain": [
       "   title       writers\n",
       "0  골방환상곡  \\n워니 / 심윤수\\n\n",
       "1   사랑in       \\n전세훈\\n\n",
       "3  마음의소리        \\n조석\\n\n",
       "5   수사9단       \\n김선권\\n\n",
       "6    와탕카       \\n우주인\\n"
      ]
     },
     "execution_count": 143,
     "metadata": {},
     "output_type": "execute_result"
    }
   ],
   "source": [
    "result.head()"
   ]
  },
  {
   "cell_type": "code",
   "execution_count": 141,
   "metadata": {},
   "outputs": [],
   "source": [
    "result.to_csv(\"./data/naver_webtoon.csv\", index=False)"
   ]
  },
  {
   "cell_type": "markdown",
   "metadata": {},
   "source": [
    "## 네이버 시리즈 - 장르소설"
   ]
  },
  {
   "cell_type": "code",
   "execution_count": 178,
   "metadata": {},
   "outputs": [],
   "source": [
    "naver_series_base_url = \"https://series.naver.com/\""
   ]
  },
  {
   "cell_type": "code",
   "execution_count": 179,
   "metadata": {},
   "outputs": [],
   "source": [
    "total_cotents = 64402\n",
    "contents_per_page = 25"
   ]
  },
  {
   "cell_type": "code",
   "execution_count": 180,
   "metadata": {},
   "outputs": [],
   "source": [
    "page_n = int(np.ceil(total_cotents/contents_per_page))"
   ]
  },
  {
   "cell_type": "code",
   "execution_count": 181,
   "metadata": {},
   "outputs": [],
   "source": [
    "titles = []\n",
    "writers = []\n",
    "\n",
    "for page in range(1, page_n + 1):\n",
    "\n",
    "    url = naver_series_base_url + f\"novel/categoryProductList.series?categoryTypeCode=all&page={page}\"\n",
    "\n",
    "    driver.get(url)\n",
    "    time.sleep(0.5)\n",
    "\n",
    "    page_src = driver.page_source\n",
    "    soup = BeautifulSoup(page_src, 'html.parser')\n",
    "\n",
    "    title_in_page = [s.find(\"div\", {\"class\":\"cont\"}).find(\"a\").get_attribute_list(\"title\")[0] for s in soup.find(\"ul\", {\"class\":\"lst_list\"}).find_all(\"li\")]\n",
    "    writer_in_page = [s.find(\"div\", {\"class\":\"cont\"}).find(\"span\", {\"class\":\"ellipsis\"}).text for s in soup.find(\"ul\", {\"class\":\"lst_list\"}).find_all(\"li\")]\n",
    "\n",
    "    titles.extend(title_in_page)\n",
    "    writers.extend(writer_in_page)\n",
    "\n",
    "    time.sleep(np.random.exponential(0.5))"
   ]
  },
  {
   "cell_type": "code",
   "execution_count": 182,
   "metadata": {},
   "outputs": [
    {
     "data": {
      "text/plain": [
       "True"
      ]
     },
     "execution_count": 182,
     "metadata": {},
     "output_type": "execute_result"
    }
   ],
   "source": [
    "len(titles) == len(writers)"
   ]
  },
  {
   "cell_type": "code",
   "execution_count": 183,
   "metadata": {},
   "outputs": [],
   "source": [
    "result = pd.DataFrame({\"title\":titles,\n",
    "                    \"writers\":writers})\n",
    "\n",
    "result = result.drop_duplicates()"
   ]
  },
  {
   "cell_type": "code",
   "execution_count": 184,
   "metadata": {},
   "outputs": [],
   "source": [
    "result.to_csv(\"./data/naver_novel.csv\", index=False)"
   ]
  },
  {
   "cell_type": "code",
   "execution_count": null,
   "metadata": {},
   "outputs": [],
   "source": []
  }
 ],
 "metadata": {
  "interpreter": {
   "hash": "edb0f3ca9b96a3498f40ca70d28091d0a6cc69459a4e4dfd59cd6a4e06eeb27e"
  },
  "kernelspec": {
   "display_name": "Python 3.10.4 ('webtoon_namer-yNG2NLjz')",
   "language": "python",
   "name": "python3"
  },
  "language_info": {
   "codemirror_mode": {
    "name": "ipython",
    "version": 3
   },
   "file_extension": ".py",
   "mimetype": "text/x-python",
   "name": "python",
   "nbconvert_exporter": "python",
   "pygments_lexer": "ipython3",
   "version": "3.10.4"
  },
  "orig_nbformat": 4
 },
 "nbformat": 4,
 "nbformat_minor": 2
}
